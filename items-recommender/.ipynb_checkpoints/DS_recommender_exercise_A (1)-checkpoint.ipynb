{
 "cells": [
  {
   "cell_type": "markdown",
   "metadata": {},
   "source": [
    "# Data science candidate exercise\n",
    "\n",
    "Thank you for working on the Formation Data Science Exercise! The purpose of this exercise is to allow you to showcase your Data Science skill set in the following areas:\n",
    " * Transforming data\n",
    " * Training and tuning of model parameters\n",
    " * Evaluation of model performance and selecting the optimal model \n",
    " \n",
    "In addition to these areas, we’re interested in seeing how you utilize code to explore a new data set to both explore data and model performance and develop/implement models in our code base. \n",
    "\n",
    "\n",
    "As you work on the exercise, keep in mind that we value reusable code that your teammates can jump into quickly, so please be sure to comment frequently, and let us know which portions of your code you would use for more formal development to showcase your skills in coding style best practices.\n",
    "\n",
    "We also encourage you to use markdown cells to explain your thought process and observations as you move through the exercise. Feel free to use the software and toolbox of your own preference. \n",
    "\n",
    "\n",
    "### Timing and Questions\n",
    "We understand that your time is valuable, while you are welcome to spend as much time as you desire on the exercise, please do not feel obligated to spend more than 2-4 hours.\n",
    " \n",
    "* Questions are encouraged:\n",
    "    * Please feel welcome to contact your TAKT recruiter with any questions you might have for Formation that may help clarify what is expected, or you have questions about the data or other items for our data science team."
   ]
  },
  {
   "cell_type": "markdown",
   "metadata": {},
   "source": [
    "# Problem Statement\n",
    "\n",
    "In this exercise, we would like to build collaborative filtering models for recommending product items. Imagine a fast food chain releases a new mobile app allowing its customers to place orders before they even have to walk into the store. There are several opportunities for the app to show recommendations: When a customer first tap on the \"order\" page, we may recommend the first item to be added to the basket (e.g. a burger). After that, items good for pairing with the existing basket could be recommended. For example, if there is a burger already in the order basket, the app may want to recommend fries and/or drinks, rather than recommending another burger.\n",
    "\n",
    "\n",
    "## Input data\n",
    "We provide the artificial transaction history data in `trx_data.csv`. Each row represents a past order. It has two columns - customerId and products (separated by \",\"). The products column contains 1 to 10 product ID(s) of those being purchased, separated by \"|\".\n",
    "\n",
    "Here is an example of the transaction records. You can find customer 0 purchased 1 item in the first log entery, and customer 1 purchased 10 items in the second log entery (some are duplicated).\n",
    "\n",
    "`customerId,products\n",
    "0,20\n",
    "1,2|2|23|68|68|111|29|86|107|152\n",
    "2,111|107|29|11|11|11|33|23\n",
    "1,164|227\n",
    "3,2|2\n",
    "6,144|144|55|267\n",
    "7,136|204|261\n",
    "3,79|8|8|48\n",
    "9,102|2|2|297\n",
    "10,84|77|286|259\n",
    "11,25|127|127\n",
    "0,18|183|288|171|289\n",
    "11,79|8|8|38\n",
    "1,2|2|20|20|20\n",
    "7,251|143\n",
    "`\n",
    "\n",
    "***Things to be aware of about the data.***\n",
    "* The `trx_data.csv` is a log of user purcases, so:\n",
    "    * Users might be found on multiple lines in the csv with different basket items attached.\n",
    "    * The products \"basket\" is not listed in any particular order.\n",
    "        * For example the following data points can be considered as equivelent\n",
    "            * `6,144|144|55|267` \n",
    "            * `6,267|144|55|144`\n",
    "    * **However** the order of the basket logs is temporal, so in the above example log:\n",
    "        * `1,2|2|23|68|68|111|29|86|107|152` was a basket of earlier purchases by user `1` than\n",
    "        * `1,164|227`\n",
    "        \n",
    "\n",
    "## Models\n",
    "A collaborative filtering model can be built once given a user-item matrix with ratings. \n",
    "For this exercise, we ask you to build **ONE** of the following two recommender models. \n",
    "\n",
    "### Option 1:\n",
    "* Build a Model that recommends to the user the \"first item\" they may want to place into their \"basket\"\n",
    "  * Input: user - customer ID\n",
    "  * Returns: ranked list of items (product IDs), that the user is most likely to want to put in his/her (empty) \"basket\"\n",
    "\n",
    "### Option 2:\n",
    "* Build a Model for the recommending a \"second item\" after the first item has already been added to the basket.\n",
    "  * Input: (user - customer ID, item - product ID)\n",
    "  * Returns: ranked list of items (product IDs), that the user is most likely to want to put in his/her (empty) \"basket\"\n",
    "\n",
    "\n",
    "\n",
    "\n",
    "## Tasks\n",
    "\n",
    "Some of the things we will be looking at as we review your submission include:\n",
    "\n",
    "### 1. Data transformation\n",
    "How are you converting the raw data as you prepare a model? Please feel welcome to define and transform the ratings in the way you think would be optimal for generating the best possible product recommendations.\n",
    "\n",
    "### 2. Model selection and development\n",
    "What algorithms did you consider using in order to develop the collaborative filtering model?  Why did you end up selecting the algorithm you ended up using.  How did you end up implementing the selected model?\n",
    "\n",
    "### 3. Validate and evaluate the model performance\n",
    "During the training process, what steps did you use for validating and evaluating the model?\n",
    "* What holdout practices did you use?\n",
    "* What performance metrics did you for validation and testing?\n",
    "* How did you choose to present your results?\n",
    "* What actions did you take or improvements did you make based on your results?\n",
    "\n",
    "### 4. Apply model to test datasets\n",
    "##### Option 1 Model\n",
    "In `recommend_1.csv`, we provide a list of customer IDs. If you select option 1, use this data to generate a csv file that indicates top 10 recommendations for each of the customers. Note the order of the recommended products should be ordered by user preference, with the most preferred item in the beginning.\n",
    "\n",
    "Sample output:\n",
    "\n",
    "`customerId, recommendedProducts\n",
    "1,0|1|2|3|4|5|6|7|8|9\n",
    "2,8|3|1|2|4|7|9|10|11|13\n",
    "3,20|21|22|23|24|25|26|27|28|29\n",
    "...\n",
    "`\n",
    "\n",
    "##### Option 2 Model\n",
    "In recommend_2.csv, we provide a list of customer IDs and their first basket item. If you select option 2, use this data to generate a csv file that indicates top 10 pairing recommendations for each of the customer-basket combinations. Note the order of the recommended products should be ordered by user preference, with the most preferred item in the beginning.\n",
    "\n",
    "Sample output:\n",
    "\n",
    "`customerId, itemId, recommendedProducts\n",
    "1,0,1|2|3|4|5|6|7|8|9|10\n",
    "1,1,0|2|3|4|5|6|7|8|9|10\n",
    "2,8,20|21|22|23|24|25|26|27|28|29\n",
    "...\n",
    "`\n",
    "\n",
    "\n",
    "## Notes on the business use case for evaluation\n",
    "* The goal of this modeling project is to recommend to the user a list of items that they are most likely to purchase (option 1) or add to their existing basket (option 2).  \n",
    "* As you are selecting metrics, please keep in mind that \n",
    " 1. the primary goal is to successfully recommend as many items in your list that they may be inclined to purchase/add, and \n",
    " 2. the secondary goal is that the items are ordered by the user's inclination (the more inclined they are, the higher up in your list of 10 recommendations.\n",
    "\n",
    "## Notes on implementation options\n",
    "\n",
    "For implementation of your modeling solution(s), please feel free to use any method that might be added to production were you to use it for development as a Formation employee. \n",
    "\n",
    "For example:\n",
    "* If you find an open source project licensed under e.g. the Apache 2.0 license or another license open for comercial purposes, you are welcome to use it for your code, or\n",
    "* If you feel like coding up a solution from scratch (assuming you have the time) you are welcome to do that as well.\n"
   ]
  },
  {
   "cell_type": "code",
   "execution_count": 1,
   "metadata": {
    "collapsed": true
   },
   "outputs": [],
   "source": [
    "### Candidate code here\n"
   ]
  },
  {
   "cell_type": "code",
   "execution_count": null,
   "metadata": {
    "collapsed": true
   },
   "outputs": [],
   "source": [
    "### Candidate code here\n"
   ]
  },
  {
   "cell_type": "code",
   "execution_count": null,
   "metadata": {
    "collapsed": true
   },
   "outputs": [],
   "source": [
    "### Candidate code here\n"
   ]
  },
  {
   "cell_type": "code",
   "execution_count": null,
   "metadata": {
    "collapsed": true
   },
   "outputs": [],
   "source": [
    "### Candidate code here\n"
   ]
  },
  {
   "cell_type": "markdown",
   "metadata": {
    "collapsed": true
   },
   "source": [
    "# Submission\n",
    "\n",
    "When you have completed your exercise, please email the following to your recruiter:\n",
    "1. This Raw .ipynb file with the stdout included under your cells\n",
    "1. An HTML export of the .ipynb file to ensure that no output is lost in submitting the raw .ipynb\n",
    "    * [File] > [Download as] > [HTML (.html)]\n",
    "1. The output CSV file, with format passing the below sanity check\n"
   ]
  },
  {
   "cell_type": "code",
   "execution_count": null,
   "metadata": {
    "collapsed": false
   },
   "outputs": [],
   "source": [
    "### The following is used to validate your submission format\n",
    "FILE_NAME = \"\" # Put your filename here\n",
    "\n",
    "submission_file = open(FILE_NAME)\n",
    "header = submission_file.readline()\n",
    "columns = header.strip().split(\",\")\n",
    "numColumns = 2\n",
    "# check columns in the header\n",
    "if len(columns) == 2 and columns[0] == \"customerId\" and columns[1] == \"recommendedProducts\":\n",
    "  # The header matches the requirement of Option 1\n",
    "  pass\n",
    "elif len(columns) == 3 and columns[0] == \"customerId\" and columns[2] == \"itemId\" and columns[2] == \"recommendedProducts\":\n",
    "  # The header matches the requirement of Option 2\n",
    "  numColumns = 3\n",
    "else:\n",
    "  raise Exception(\"The header does not match the required format!\")\n",
    "  \n",
    "# check data    \n",
    "for (i, l) in enumerate(submission_file):\n",
    "  fields = l.strip().split(\",\")\n",
    "  if len(fields) != numColumns:\n",
    "    raise Exception(\"Line %d does not have %d comma-separated fields!\" %(i+1, numColumns))      \n",
    "  if len(fields[-1].split(\"|\")) != 10:\n",
    "    raise Exception(\"Line %d does not have 10 recommended products!\" %(i+1))\n",
    "\n",
    "if i != 999:\n",
    "  raise Exception(\"The submission file has %d lines (1000 expected)\" %(i+1))\n",
    "\n",
    "print(\"Your submission file has passed the format check!\")\n",
    "    \n"
   ]
  }
 ],
 "metadata": {
  "anaconda-cloud": {},
  "kernelspec": {
   "display_name": "Python 2",
   "language": "python",
   "name": "python2"
  },
  "language_info": {
   "codemirror_mode": {
    "name": "ipython",
    "version": 2
   },
   "file_extension": ".py",
   "mimetype": "text/x-python",
   "name": "python",
   "nbconvert_exporter": "python",
   "pygments_lexer": "ipython2",
   "version": "2.7.12"
  }
 },
 "nbformat": 4,
 "nbformat_minor": 1
}
